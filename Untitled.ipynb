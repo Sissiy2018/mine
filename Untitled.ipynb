{
 "cells": [
  {
   "cell_type": "code",
   "execution_count": 6,
   "id": "6aacb867",
   "metadata": {},
   "outputs": [],
   "source": [
    "import numpy as np\n",
    "import os\n",
    "import tensorflow as tf\n",
    "\n",
    "# Define the means and standard deviations for the two Gaussian distributions\n",
    "mean1_range = np.arange(10, 101, 10)\n",
    "mean2_range = np.arange(10, 101, 10)\n",
    "std_dev = 50\n",
    "count = 0\n",
    "\n",
    "# Initialize an empty array to store the samples\n",
    "samples = np.empty((100, 400), dtype=np.float64)\n",
    "para = np.empty((100, 2), dtype=np.float64)\n",
    "\n",
    "# Generate samples from each distribution\n",
    "for mean1 in mean1_range:\n",
    "    for mean2 in mean2_range:\n",
    "        # Generate 400 samples from the first Gaussian distribution\n",
    "        dist1_samples = np.random.normal(mean1, std_dev, size=200)\n",
    "        # Generate 400 samples from the second Gaussian distribution\n",
    "        dist2_samples = np.random.normal(mean2, std_dev, size=200)\n",
    "        # Concatenate the samples from both distributions\n",
    "        dist_samples = np.concatenate([dist1_samples, dist2_samples])\n",
    "        #para_com = np.concatenate((mean1, mean2), axis=1)\n",
    "        # Append the samples to the main array\n",
    "        samples[count] = dist_samples\n",
    "        para[count:0] = mean1\n",
    "        para[count:1] = mean2\n",
    "        count += 1\n",
    "        #print(count)\n",
    "# Print the shape of the resulting array\n",
    "#print(\"Shape of the samples array:\", samples.shape)"
   ]
  },
  {
   "cell_type": "code",
   "execution_count": 7,
   "id": "99c16aa6",
   "metadata": {},
   "outputs": [
    {
     "name": "stdout",
     "output_type": "stream",
     "text": [
      "[[ 3.80516079e+01  1.12873781e+01 -4.27990820e+00 ...  4.94209937e+01\n",
      "   2.12357549e+01 -4.01256621e+01]\n",
      " [ 6.53939193e+01 -5.72158979e+01  4.83025293e+01 ...  7.31767543e+01\n",
      "  -2.27073919e+01  2.06897411e+01]\n",
      " [ 9.40579008e+00  9.74610604e+01 -6.31435443e+01 ... -3.38248827e+01\n",
      "  -2.74278890e+01  4.82582148e+01]\n",
      " ...\n",
      " [ 1.29512711e+02  2.00819234e+02  1.31640316e+02 ...  7.10916712e+01\n",
      "   6.24598419e+01 -6.77851531e+01]\n",
      " [ 9.17937761e+01  1.53190297e+02  9.78828144e+01 ...  4.43512004e+00\n",
      "   1.16034008e+02  1.03814237e+02]\n",
      " [ 1.07305382e+02  6.49213285e+01  2.03251407e+01 ...  9.47185726e+01\n",
      "   1.03956573e+02  1.92836004e-01]]\n"
     ]
    }
   ],
   "source": [
    "print(samples)"
   ]
  },
  {
   "cell_type": "code",
   "execution_count": 8,
   "id": "0e1f43bf",
   "metadata": {},
   "outputs": [
    {
     "name": "stdout",
     "output_type": "stream",
     "text": [
      "[[1.00000000e+001 1.00000000e+001]\n",
      " [6.16046173e-312 6.16075112e-312]\n",
      " [6.16046173e-312 6.16075112e-312]\n",
      " [6.16046173e-312 6.16021674e-312]\n",
      " [6.16075112e-312 6.16075112e-312]\n",
      " [6.16022113e-312 6.16021674e-312]\n",
      " [6.16022113e-312 6.16160034e-312]\n",
      " [6.16160030e-312 6.16040980e-312]\n",
      " [6.16160035e-312 6.16040980e-312]\n",
      " [6.16160031e-312 6.16046403e-312]\n",
      " [6.16021674e-312 6.16160036e-312]\n",
      " [6.16058784e-312 6.16022390e-312]\n",
      " [6.16058784e-312 6.16058784e-312]\n",
      " [6.16160037e-312 6.16046173e-312]\n",
      " [6.16022390e-312 6.16058922e-312]\n",
      " [6.16046440e-312 6.16022391e-312]\n",
      " [6.16058923e-312 6.16021666e-312]\n",
      " [6.16022391e-312 6.16021666e-312]\n",
      " [6.16058922e-312 6.16021668e-312]\n",
      " [6.16022391e-312 6.16021668e-312]\n",
      " [6.16058924e-312 6.16021666e-312]\n",
      " [6.16022391e-312 6.16021666e-312]\n",
      " [6.16021674e-312 6.16046173e-312]\n",
      " [6.16046173e-312 6.16046173e-312]\n",
      " [6.16046440e-312 6.16046173e-312]\n",
      " [6.16058920e-312 6.16061430e-312]\n",
      " [6.16022390e-312 6.16061430e-312]\n",
      " [6.16061430e-312 6.16058924e-312]\n",
      " [6.16046173e-312 6.16022390e-312]\n",
      " [6.16058926e-312 6.16046440e-312]\n",
      " [6.16022391e-312 6.16058922e-312]\n",
      " [6.16021666e-312 6.16022391e-312]\n",
      " [6.16021666e-312 6.16058924e-312]\n",
      " [6.16021668e-312 6.16022391e-312]\n",
      " [6.16021668e-312 6.16058922e-312]\n",
      " [6.16021666e-312 6.16022391e-312]\n",
      " [6.16021666e-312 6.16021674e-312]\n",
      " [6.16046173e-312 6.16046173e-312]\n",
      " [6.16046173e-312 6.16046440e-312]\n",
      " [6.16046173e-312 6.16058922e-312]\n",
      " [6.16061430e-312 6.16022390e-312]\n",
      " [6.16061430e-312 6.16061430e-312]\n",
      " [6.16058923e-312 6.16021667e-312]\n",
      " [6.16021674e-312 6.16021667e-312]\n",
      " [6.16021667e-312 6.16058924e-312]\n",
      " [6.16021688e-312 6.16022390e-312]\n",
      " [6.16021688e-312 6.16021688e-312]\n",
      " [6.16057360e-312 6.16021666e-312]\n",
      " [6.16021674e-312 6.16021666e-312]\n",
      " [6.16021666e-312 6.16058923e-312]\n",
      " [6.16061430e-312 6.16022390e-312]\n",
      " [6.16061430e-312 6.16061430e-312]\n",
      " [6.16058921e-312 6.16046173e-312]\n",
      " [6.16022390e-312 6.16058922e-312]\n",
      " [6.16024649e-312 6.16022391e-312]\n",
      " [6.16022391e-312 6.16058919e-312]\n",
      " [6.16021668e-312 6.16022391e-312]\n",
      " [6.16021668e-312 6.16058925e-312]\n",
      " [6.16164958e-312 6.16022391e-312]\n",
      " [6.16164958e-312 6.16022391e-312]\n",
      " [6.16058921e-312 6.16044424e-312]\n",
      " [6.16022390e-312 6.16044424e-312]\n",
      " [6.16044424e-312 6.16044424e-312]\n",
      " [6.16058924e-312 6.16046173e-312]\n",
      " [6.16022390e-312 6.16058926e-312]\n",
      " [6.16046864e-312 6.16022391e-312]\n",
      " [6.16046173e-312 6.16044424e-312]\n",
      " [6.16021674e-312 6.16046173e-312]\n",
      " [6.16046173e-312 6.16046173e-312]\n",
      " [6.16024649e-312 6.16046173e-312]\n",
      " [6.16059130e-312 6.16043589e-312]\n",
      " [6.16022390e-312 6.16043589e-312]\n",
      " [6.16043589e-312 6.16059130e-312]\n",
      " [6.16046173e-312 6.16022390e-312]\n",
      " [6.16158737e-312 6.16024649e-312]\n",
      " [6.16022391e-312 6.16022391e-312]\n",
      " [6.16158741e-312 6.16021668e-312]\n",
      " [6.16022391e-312 6.16021668e-312]\n",
      " [6.16057362e-312 6.16021666e-312]\n",
      " [6.16022391e-312 6.16021666e-312]\n",
      " [6.16022391e-312 6.16158737e-312]\n",
      " [6.16044424e-312 6.16022390e-312]\n",
      " [6.16044424e-312 6.16044424e-312]\n",
      " [6.16044424e-312 6.16158738e-312]\n",
      " [6.16046173e-312 6.16022390e-312]\n",
      " [6.16158737e-312 6.16046864e-312]\n",
      " [6.16022391e-312 6.16046173e-312]\n",
      " [6.16044424e-312 6.16021674e-312]\n",
      " [6.16046173e-312 6.16046173e-312]\n",
      " [6.16046173e-312 6.16024649e-312]\n",
      " [6.16046173e-312 6.16158738e-312]\n",
      " [6.16158737e-312 6.16061429e-312]\n",
      " [6.16158737e-312 6.16061429e-312]\n",
      " [6.16158736e-312 6.16058784e-312]\n",
      " [6.16022691e-312 6.16058784e-312]\n",
      " [6.16021674e-312 6.16021674e-312]\n",
      " [6.16158737e-312 6.16158737e-312]\n",
      " [6.16061429e-312 6.16158737e-312]\n",
      " [6.16061429e-312 6.16158738e-312]\n",
      " [6.16061430e-312 6.16022691e-312]]\n"
     ]
    }
   ],
   "source": [
    "print(para)"
   ]
  },
  {
   "cell_type": "code",
   "execution_count": 31,
   "id": "e1296929",
   "metadata": {},
   "outputs": [
    {
     "name": "stdout",
     "output_type": "stream",
     "text": [
      "(67, 400) (33, 400) (67, 2) (33, 2)\n"
     ]
    }
   ],
   "source": [
    "from sklearn.model_selection import train_test_split\n",
    "X = samples\n",
    "y = para\n",
    "X_train, X_test, y_train, y_test = train_test_split(X, y, test_size=0.33)\n",
    "print(X_train.shape, X_test.shape, y_train.shape, y_test.shape)\n",
    "# determine the number of input features\n",
    "n_features = X_train.shape[1]"
   ]
  },
  {
   "cell_type": "code",
   "execution_count": 32,
   "id": "c0d4d1cf",
   "metadata": {},
   "outputs": [],
   "source": [
    "# determine the number of input features\n",
    "n_features = X_train.shape[1]\n",
    "n_features\n",
    "output_shape = (2,)"
   ]
  },
  {
   "cell_type": "code",
   "execution_count": 33,
   "id": "6e2d3bfb",
   "metadata": {},
   "outputs": [
    {
     "name": "stdout",
     "output_type": "stream",
     "text": [
      "Model: \"sequential_12\"\n",
      "_________________________________________________________________\n",
      " Layer (type)                Output Shape              Param #   \n",
      "=================================================================\n",
      " dense_31 (Dense)            (None, 10)                4010      \n",
      "                                                                 \n",
      " dropout_11 (Dropout)        (None, 10)                0         \n",
      "                                                                 \n",
      " batch_normalization_10 (Bat  (None, 10)               40        \n",
      " chNormalization)                                                \n",
      "                                                                 \n",
      " dense_32 (Dense)            (None, 8)                 88        \n",
      "                                                                 \n",
      " dense_33 (Dense)            (None, 2)                 18        \n",
      "                                                                 \n",
      "=================================================================\n",
      "Total params: 4,156\n",
      "Trainable params: 4,136\n",
      "Non-trainable params: 20\n",
      "_________________________________________________________________\n",
      "Epoch 1/10\n",
      "4/4 [==============================] - 1s 55ms/step - loss: 0.0049 - accuracy: 0.1343 - val_loss: 3.1882 - val_accuracy: 0.2121\n",
      "Epoch 2/10\n",
      "4/4 [==============================] - 0s 12ms/step - loss: 0.0025 - accuracy: 0.2836 - val_loss: 3.0997 - val_accuracy: 0.2424\n",
      "Epoch 3/10\n",
      "4/4 [==============================] - 0s 11ms/step - loss: 0.0017 - accuracy: 0.4478 - val_loss: 3.0783 - val_accuracy: 0.2121\n",
      "Epoch 4/10\n",
      "4/4 [==============================] - 0s 10ms/step - loss: 7.5069e-04 - accuracy: 0.6269 - val_loss: 3.0620 - val_accuracy: 0.4242\n",
      "Epoch 5/10\n",
      "4/4 [==============================] - 0s 12ms/step - loss: 7.2459e-04 - accuracy: 0.6866 - val_loss: 3.0507 - val_accuracy: 0.5758\n",
      "Epoch 6/10\n",
      "4/4 [==============================] - 0s 15ms/step - loss: 4.6384e-04 - accuracy: 0.7463 - val_loss: 3.0422 - val_accuracy: 0.8485\n",
      "Epoch 7/10\n",
      "4/4 [==============================] - 0s 16ms/step - loss: 4.3357e-04 - accuracy: 0.7910 - val_loss: 3.0358 - val_accuracy: 0.8182\n",
      "Epoch 8/10\n",
      "4/4 [==============================] - 0s 11ms/step - loss: 2.9675e-04 - accuracy: 0.5075 - val_loss: 3.0310 - val_accuracy: 0.7576\n",
      "Epoch 9/10\n",
      "4/4 [==============================] - 0s 8ms/step - loss: 1.9408e-04 - accuracy: 0.7164 - val_loss: 3.0266 - val_accuracy: 0.7273\n",
      "Epoch 10/10\n",
      "4/4 [==============================] - 0s 11ms/step - loss: 1.6242e-04 - accuracy: 0.6418 - val_loss: 3.0233 - val_accuracy: 0.7273\n"
     ]
    },
    {
     "data": {
      "text/plain": [
       "<keras.callbacks.History at 0x12269d959c0>"
      ]
     },
     "execution_count": 33,
     "metadata": {},
     "output_type": "execute_result"
    }
   ],
   "source": [
    "from tensorflow.keras import Sequential\n",
    "from tensorflow.keras.layers import Dense\n",
    "from tensorflow.keras.layers import Dropout,BatchNormalization\n",
    "from tensorflow.keras.callbacks import EarlyStopping\n",
    "## define model\n",
    "model = Sequential()\n",
    "model.add(Dense(10, activation='relu', kernel_initializer='uniform', input_shape=(n_features,))) # special for only one dimension\n",
    "model.add(Dropout(0.5))\n",
    "model.add(BatchNormalization())\n",
    "model.add(Dense(8, activation='relu', kernel_initializer='uniform'))\n",
    "model.add(Dense(output_shape[0]))\n",
    "# compile the model\n",
    "loss_fn = tf.keras.losses.SparseCategoricalCrossentropy(from_logits=True)\n",
    "model.compile(optimizer='adam', loss='mean_squared_error', metrics=['accuracy'])\n",
    "# configure early stopping\n",
    "es = EarlyStopping(monitor='val_loss', patience=5)\n",
    "# summarize the model\n",
    "model.summary()\n",
    "#plot_model(model, 'model.png', show_shapes=True)\n",
    "# Save the weights using the `checkpoint_path` format\n",
    "#model.save_weights(checkpoint_path.format(epoch=0))\n",
    "# fit the model\n",
    "model.fit(X_train, y_train, batch_size=int(len(X_train)/3), epochs = 10, shuffle=True,validation_data=(X_test, y_test))"
   ]
  },
  {
   "cell_type": "code",
   "execution_count": 21,
   "id": "707c4219",
   "metadata": {},
   "outputs": [
    {
     "name": "stdout",
     "output_type": "stream",
     "text": [
      "(60000, 28, 28) (10000, 28, 28) (60000,) (10000,)\n"
     ]
    }
   ],
   "source": [
    "DATA_URL = 'https://storage.googleapis.com/tensorflow/tf-keras-datasets/mnist.npz'\n",
    "\n",
    "path = tf.keras.utils.get_file('mnist.npz', DATA_URL)\n",
    "with np.load(path) as data:\n",
    "  train_examples = data['x_train']\n",
    "  train_labels = data['y_train']\n",
    "  test_examples = data['x_test']\n",
    "  test_labels = data['y_test']\n",
    "print(train_examples.shape, test_examples.shape, train_labels.shape, test_labels.shape)"
   ]
  },
  {
   "cell_type": "code",
   "execution_count": 34,
   "id": "7c30da41",
   "metadata": {},
   "outputs": [
    {
     "name": "stdout",
     "output_type": "stream",
     "text": [
      "(67, 400) (33, 400) (67, 2) (33, 2)\n"
     ]
    }
   ],
   "source": [
    "print(X_train.shape, X_test.shape, y_train.shape, y_test.shape)"
   ]
  },
  {
   "cell_type": "code",
   "execution_count": null,
   "id": "9de66542",
   "metadata": {},
   "outputs": [],
   "source": []
  }
 ],
 "metadata": {
  "kernelspec": {
   "display_name": "Python 3 (ipykernel)",
   "language": "python",
   "name": "python3"
  },
  "language_info": {
   "codemirror_mode": {
    "name": "ipython",
    "version": 3
   },
   "file_extension": ".py",
   "mimetype": "text/x-python",
   "name": "python",
   "nbconvert_exporter": "python",
   "pygments_lexer": "ipython3",
   "version": "3.10.9"
  }
 },
 "nbformat": 4,
 "nbformat_minor": 5
}
